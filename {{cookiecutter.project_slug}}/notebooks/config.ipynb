{
 "cells": [
  {
   "cell_type": "code",
   "metadata": {},
   "source": [
    "from pathlib import Path\n",
    "Path('configs').mkdir(exist_ok=True)\n",
    "with open('configs/paths.yaml', 'w') as f:\n",
    "    f.write('default_dir: data\\n')\n"
   ]
  }
 ],
 "metadata": {
  "language_info": {
   "name": "python"
  }
 },
 "nbformat": 4,
 "nbformat_minor": 5
}
